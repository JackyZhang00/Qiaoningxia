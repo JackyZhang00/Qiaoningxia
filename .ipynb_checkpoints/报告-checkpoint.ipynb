{
 "cells": [
  {
   "cell_type": "markdown",
   "id": "40ed481b-d437-4817-bd28-f25099424b7d",
   "metadata": {},
   "source": [
    "# 06乔宁夏计算实训报告"
   ]
  },
  {
   "cell_type": "markdown",
   "id": "5a8a7c2b-495e-4e4a-8af0-368e0b823250",
   "metadata": {},
   "source": [
    "## 一、实训内容"
   ]
  },
  {
   "cell_type": "markdown",
   "id": "3928b9d5-6ad4-4986-ad99-389213c1e646",
   "metadata": {},
   "source": [
    "## 二、进度安排"
   ]
  },
  {
   "cell_type": "markdown",
   "id": "35577bd8-e591-409d-a0ad-258eadda618a",
   "metadata": {},
   "source": [
    "- [X] 1\n",
    "- [ ] 2\n",
    "- [ ] 3"
   ]
  },
  {
   "cell_type": "markdown",
   "id": "eec13e1d-d59a-47fc-9803-47ebebdb70e6",
   "metadata": {},
   "source": [
    "## 三、程序设计"
   ]
  },
  {
   "cell_type": "code",
   "execution_count": 1,
   "id": "5c3b9588-ebd1-48a3-91ea-06130c94efd5",
   "metadata": {},
   "outputs": [
    {
     "name": "stdout",
     "output_type": "stream",
     "text": [
      "5\n"
     ]
    }
   ],
   "source": [
    "def add(a,b):\n",
    "    return a+b\n",
    "print(add(2,3))"
   ]
  },
  {
   "cell_type": "code",
   "execution_count": null,
   "id": "61cb37f2-69ca-40f5-9d39-8fe7406dc4c2",
   "metadata": {},
   "outputs": [],
   "source": []
  }
 ],
 "metadata": {
  "kernelspec": {
   "display_name": "Python 3 (ipykernel)",
   "language": "python",
   "name": "python3"
  },
  "language_info": {
   "codemirror_mode": {
    "name": "ipython",
    "version": 3
   },
   "file_extension": ".py",
   "mimetype": "text/x-python",
   "name": "python",
   "nbconvert_exporter": "python",
   "pygments_lexer": "ipython3",
   "version": "3.9.12"
  }
 },
 "nbformat": 4,
 "nbformat_minor": 5
}
